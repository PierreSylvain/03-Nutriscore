{
 "cells": [
  {
   "cell_type": "markdown",
   "metadata": {
    "cell_id": "00000-f5b9efea-e9c3-4bb3-8229-1132c0be5fc4",
    "deepnote_cell_type": "markdown",
    "output_cleared": false
   },
   "source": [
    "# Prototype pour la recherche de nutri-score\n",
    "L'excution de ce notebook nécessite l'utilisation de [Voilà](https://github.com/voila-dashboards/voila) pour une utilisation optimale.\n",
    "\n",
    "Les données sont celles qui ont été générées avec le notebook **P3_01_notebook_clean**\n",
    "\n",
    "## Chargement des bibliothèques"
   ]
  },
  {
   "cell_type": "code",
   "execution_count": 1,
   "metadata": {
    "cell_id": "00001-1adcdee9-0944-4a96-8705-f568c9e9798d",
    "deepnote_cell_type": "code",
    "execution_millis": 1,
    "execution_start": 1605643347963,
    "output_cleared": false,
    "source_hash": "7329960f"
   },
   "outputs": [],
   "source": [
    "# Chargement des bibliothèques\n",
    "import numpy as np\n",
    "import pandas as pd\n",
    "\n",
    "import matplotlib.image as mpimg\n",
    "import matplotlib.pyplot as plt\n",
    "\n",
    "from ipywidgets import HBox, VBox, FloatSlider, interactive_output\n",
    "import ipywidgets as widget\n",
    "from IPython.display import display"
   ]
  },
  {
   "cell_type": "markdown",
   "metadata": {
    "cell_id": "00002-5e802523-02d2-4613-b475-88825713955e",
    "deepnote_cell_type": "markdown",
    "output_cleared": false,
    "tags": []
   },
   "source": [
    "## Chargement des données"
   ]
  },
  {
   "cell_type": "code",
   "execution_count": 2,
   "metadata": {
    "cell_id": "00002-6d7f7afb-e44c-45b4-9d16-3f6834f2d46d",
    "deepnote_cell_type": "code",
    "execution_millis": 1,
    "execution_start": 1605643347964,
    "output_cleared": false,
    "source_hash": "dfeae0bf"
   },
   "outputs": [],
   "source": [
    "# Répertoire pour les données\n",
    "data_dir = \"../data/\""
   ]
  },
  {
   "cell_type": "code",
   "execution_count": 3,
   "metadata": {
    "cell_id": "00003-5eb84e8c-3a0a-4255-b021-71d147c3441d",
    "deepnote_cell_type": "code",
    "execution_millis": 3730,
    "execution_start": 1605643347965,
    "output_cleared": false,
    "source_hash": "d76e7202"
   },
   "outputs": [],
   "source": [
    "data = pd.read_csv(data_dir + \"fr.openfoodfacts_clean.csv\", sep=',',low_memory=False)"
   ]
  },
  {
   "cell_type": "markdown",
   "metadata": {
    "cell_id": "00005-a5c911e7-c4e0-4b8a-8f5f-f640edbda76e",
    "deepnote_cell_type": "markdown",
    "output_cleared": false,
    "tags": []
   },
   "source": [
    "## Fonction de recherche du nutri-score le plus approchant"
   ]
  },
  {
   "cell_type": "code",
   "execution_count": 4,
   "metadata": {
    "cell_id": "00004-0076d06b-7069-4090-b68e-9d13b748dfc2",
    "deepnote_cell_type": "code",
    "execution_millis": 4,
    "execution_start": 1605643351703,
    "output_cleared": false,
    "source_hash": "fa53638c"
   },
   "outputs": [],
   "source": [
    "def find_nutri_score(fat,carbohydrate, fiber, protein, salt):\n",
    "    \"\"\"\n",
    "    Recherche le nutri-csore le plus proche en fonction des paramètres fournis    \n",
    "    \"\"\"\n",
    "    threshold = 1 \n",
    "    grade = data[\n",
    "        (data['fat_100g'] > (fat - threshold)) & (data['fat_100g'] < (fat + threshold)) &\n",
    "        (data['fiber_100g'] > (fiber - threshold)) & (data['fiber_100g'] < (fiber + threshold)) &\n",
    "        (data['carbohydrates_100g'] > (carbohydrate - threshold)) & (data['carbohydrates_100g'] < (carbohydrate + threshold))                \n",
    "    ]\n",
    "    if (fat + carbohydrate + fiber + protein + salt) == 0:\n",
    "        return \n",
    "\n",
    "    display(widget.HTML(\"<h2>Resultats</h2>\"))\n",
    "    \n",
    "    \n",
    "    try:        \n",
    "        nutri_score = grade[\"nutrition_grade_fr\"].mode().iat[0]\n",
    "        \n",
    "        image = \"img/ns_\" + nutri_score.upper() + \".png\"                \n",
    "        #print(f\"Nutri-score : {nutri_score.upper()}\")\n",
    "        img = mpimg.imread(image)\n",
    "        plt.imshow(img)\n",
    "        plt.axis('off')\n",
    "        plt.show()\n",
    "        examples = grade[grade[\"nutrition_grade_fr\"] == nutri_score].head(5)       \n",
    "        display(widget.HTML(\"<h3>Quelques produits similaires</h3>\"))\n",
    "        display(widget.HTML(\"<ul style='list-style: square inside;'>\"))\n",
    "        for index, row in examples.iterrows():            \n",
    "            display(widget.HTML(f\"<li>{row['product_name']} ({row['brands']})</li>\"))            \n",
    "        display(widget.HTML(\"</ul>\"))\n",
    "    except IndexError:\n",
    "        display(widget.HTML(\"<div style='color:red'>Impossible de déterminer le nutri-score</div>\"))\n",
    "    "
   ]
  },
  {
   "cell_type": "markdown",
   "metadata": {
    "cell_id": "00007-ce5ea87d-4922-4c57-b0c6-c8f1ea043a81",
    "deepnote_cell_type": "markdown",
    "output_cleared": false,
    "tags": []
   },
   "source": [
    "## Définition des variables qui seront saisies par l'utilisateur"
   ]
  },
  {
   "cell_type": "code",
   "execution_count": 5,
   "metadata": {
    "cell_id": "00006-cba3efe1-7097-4002-9a2f-216f56e5de93",
    "deepnote_cell_type": "code",
    "execution_millis": 8,
    "execution_start": 1605643351741,
    "output_cleared": false,
    "source_hash": "7c34e6d"
   },
   "outputs": [],
   "source": [
    "# Définition des variables\n",
    "fat = FloatSlider(description='Lipides', value=0, min=0, max=100, step=.5)\n",
    "carbohydrate = FloatSlider(description='Glucides', value=0, min=0, max=100, step=.5)\n",
    "fiber = FloatSlider(description='Fibres', value=0, min=0, max=100, step=.5)\n",
    "protein = FloatSlider(description='Protéines', value=0, min=0, max=100, step=.5)\n",
    "salt = FloatSlider(description='Sel', value=0, min=0, max=100, step=.5)"
   ]
  },
  {
   "cell_type": "markdown",
   "metadata": {
    "cell_id": "00009-eac61eb7-16e1-41f6-b136-71b0ea9f94b8",
    "deepnote_cell_type": "markdown",
    "output_cleared": false,
    "tags": []
   },
   "source": [
    "## Affichage de la page web"
   ]
  },
  {
   "cell_type": "code",
   "execution_count": 6,
   "metadata": {
    "cell_id": "00007-9f63b8d8-872d-480d-b039-c519024a3694",
    "deepnote_cell_type": "code",
    "execution_millis": 36,
    "execution_start": 1605643351767,
    "output_cleared": false,
    "source_hash": "e48a38f1"
   },
   "outputs": [
    {
     "data": {
      "application/vnd.jupyter.widget-view+json": {
       "model_id": "d55c47f9b1f7446f96ec7c7a3eb5734f",
       "version_major": 2,
       "version_minor": 0
      },
      "text/plain": [
       "HTML(value='<h1>Recherche de Nutri-score</h1>')"
      ]
     },
     "metadata": {},
     "output_type": "display_data"
    },
    {
     "data": {
      "application/vnd.jupyter.widget-view+json": {
       "model_id": "19f9a7d75e2348b58bf37405fbae4593",
       "version_major": 2,
       "version_minor": 0
      },
      "text/plain": [
       "HTML(value=\"<div>Saisissez les Lipides, glucides, fibres, proteines et sel pour 100g afin d'obtenir une évalua…"
      ]
     },
     "metadata": {},
     "output_type": "display_data"
    },
    {
     "data": {
      "application/vnd.jupyter.widget-view+json": {
       "model_id": "c1f1d46f43284d0d894db38c6b66d666",
       "version_major": 2,
       "version_minor": 0
      },
      "text/plain": [
       "HBox(children=(VBox(children=(FloatSlider(value=0.0, description='Lipides', step=0.5), FloatSlider(value=0.0, …"
      ]
     },
     "metadata": {},
     "output_type": "display_data"
    }
   ],
   "source": [
    "# Affichage\n",
    "display(widget.HTML(\"<h1>Recherche de Nutri-score</h1>\"))\n",
    "display(widget.HTML(\"<div>Saisissez les Lipides, glucides, fibres, proteines et sel pour 100g afin d'obtenir une évaluation du nutri-score</div>\"))\n",
    "\n",
    "out = interactive_output(find_nutri_score, {\n",
    "    \"fat\": fat, \n",
    "    \"carbohydrate\": carbohydrate, \n",
    "    \"fiber\": fiber, \n",
    "    \"protein\": protein, \n",
    "    \"salt\": salt })\n",
    "\n",
    "display(HBox([VBox([fat,carbohydrate, fiber, protein, salt]), out]))"
   ]
  },
  {
   "cell_type": "code",
   "execution_count": null,
   "metadata": {
    "cell_id": "00008-49ff3944-4e76-46e9-b88b-b318896c91e0",
    "deepnote_cell_type": "code",
    "execution_start": 1605643351841,
    "output_cleared": false,
    "source_hash": "b623e53d"
   },
   "outputs": [],
   "source": []
  }
 ],
 "metadata": {
  "deepnote_execution_queue": [],
  "deepnote_notebook_id": "7791c884-bca0-4148-8bb6-49e7df1a8381",
  "kernelspec": {
   "display_name": "Python 3",
   "language": "python",
   "name": "python3"
  },
  "language_info": {
   "codemirror_mode": {
    "name": "ipython",
    "version": 3
   },
   "file_extension": ".py",
   "mimetype": "text/x-python",
   "name": "python",
   "nbconvert_exporter": "python",
   "pygments_lexer": "ipython3",
   "version": "3.8.5"
  }
 },
 "nbformat": 4,
 "nbformat_minor": 4
}
